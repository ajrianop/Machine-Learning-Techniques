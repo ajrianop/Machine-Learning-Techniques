{
  "nbformat": 4,
  "nbformat_minor": 0,
  "metadata": {
    "colab": {
      "provenance": [],
      "authorship_tag": "ABX9TyMDQBnicgy7C4zwSJtzNKpN",
      "include_colab_link": true
    },
    "kernelspec": {
      "name": "python3",
      "display_name": "Python 3"
    },
    "language_info": {
      "name": "python"
    }
  },
  "cells": [
    {
      "cell_type": "markdown",
      "metadata": {
        "id": "view-in-github",
        "colab_type": "text"
      },
      "source": [
        "<a href=\"https://colab.research.google.com/github/ajrianop/Machine-Learning-Techniques/blob/main/05_Outliers.ipynb\" target=\"_parent\"><img src=\"https://colab.research.google.com/assets/colab-badge.svg\" alt=\"Open In Colab\"/></a>"
      ]
    },
    {
      "cell_type": "code",
      "execution_count": null,
      "metadata": {
        "id": "zqsDCTd5JsE7"
      },
      "outputs": [],
      "source": []
    },
    {
      "cell_type": "markdown",
      "source": [
        "# **Outliers**"
      ],
      "metadata": {
        "id": "ojT9x5vMJ7k2"
      }
    },
    {
      "cell_type": "markdown",
      "source": [
        "In many cases when dealing with data, we encounter outliers that can significantly impact our ability to draw meaningful conclusions for a particular problem. Outliers are data points that deviate significantly from the rest of the dataset and do not align with the underlying patterns or trends. These outliers can distort our analysis and lead to erroneous conclusions. A common approach to handling outliers, particularly in datasets following a normal distribution, is to use statistical measures such as standard deviation to identify and address them. By detecting and appropriately addressing outliers, we can ensure that our analysis and conclusions are more robust and representative of the true underlying patterns in the data."
      ],
      "metadata": {
        "id": "E1gBmlCcJ9im"
      }
    },
    {
      "cell_type": "markdown",
      "source": [
        "## **Example**"
      ],
      "metadata": {
        "id": "6526pGVyPUtV"
      }
    },
    {
      "cell_type": "markdown",
      "source": [
        "We are going to create a set of value in order to describe house pricing in a city X."
      ],
      "metadata": {
        "id": "mn6ZN8HaPW4t"
      }
    },
    {
      "cell_type": "code",
      "source": [],
      "metadata": {
        "id": "6HE4K82fPUHf"
      },
      "execution_count": null,
      "outputs": []
    }
  ]
}