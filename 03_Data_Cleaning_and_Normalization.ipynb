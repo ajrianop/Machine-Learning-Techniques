{
  "nbformat": 4,
  "nbformat_minor": 0,
  "metadata": {
    "colab": {
      "provenance": [],
      "authorship_tag": "ABX9TyODMDlbqj3gqHtC4U0LODdx",
      "include_colab_link": true
    },
    "kernelspec": {
      "name": "python3",
      "display_name": "Python 3"
    },
    "language_info": {
      "name": "python"
    }
  },
  "cells": [
    {
      "cell_type": "markdown",
      "metadata": {
        "id": "view-in-github",
        "colab_type": "text"
      },
      "source": [
        "<a href=\"https://colab.research.google.com/github/ajrianop/Machine-Learning-Techniques/blob/main/03_Data_Cleaning_and_Normalization.ipynb\" target=\"_parent\"><img src=\"https://colab.research.google.com/assets/colab-badge.svg\" alt=\"Open In Colab\"/></a>"
      ]
    },
    {
      "cell_type": "markdown",
      "source": [
        "# **Data Cleaning and Normalization**"
      ],
      "metadata": {
        "id": "CgUL4I6nbAdA"
      }
    },
    {
      "cell_type": "markdown",
      "source": [
        "When embarking on data analysis endeavors, it's common to encounter well-presented data initially. However, a significant portion of our time is often dedicated to preparing and cleaning the data. During this process, it's crucial to consider various factors:\n",
        "* Missing data.\n",
        "* Outliers.\n",
        "* Wrong data.\n",
        "* Inconsistent data.\n",
        "* Irrelevant  data.\n",
        "* Formatting misundestanding."
      ],
      "metadata": {
        "id": "ISheOlr2f-U2"
      }
    },
    {
      "cell_type": "markdown",
      "source": [
        "Accordingly, it's imperative to consistently clean your data. When tackling modeling problems, we adhere to a fundamental principle: 'Garbage in, garbage out.' This adage underscores the significance of utilizing high-quality data in model training. If erroneous or subpar data is used for training, the resulting outputs are bound to be flawed. Therefore, prioritizing data cleanliness is essential for obtaining accurate and reliable results.\n",
        "\n",
        "Take into account that sometimes the quantity and quality of data are the most valuable factors for modeling."
      ],
      "metadata": {
        "id": "n2DE4jXghSuZ"
      }
    },
    {
      "cell_type": "code",
      "execution_count": null,
      "metadata": {
        "id": "sJKoqUOGayk9"
      },
      "outputs": [],
      "source": []
    }
  ]
}