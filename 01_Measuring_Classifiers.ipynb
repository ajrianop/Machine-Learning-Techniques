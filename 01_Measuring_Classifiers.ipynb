{
  "nbformat": 4,
  "nbformat_minor": 0,
  "metadata": {
    "colab": {
      "provenance": [],
      "authorship_tag": "ABX9TyP270lCOMZvMHTSttGH7Jwd",
      "include_colab_link": true
    },
    "kernelspec": {
      "name": "python3",
      "display_name": "Python 3"
    },
    "language_info": {
      "name": "python"
    }
  },
  "cells": [
    {
      "cell_type": "markdown",
      "metadata": {
        "id": "view-in-github",
        "colab_type": "text"
      },
      "source": [
        "<a href=\"https://colab.research.google.com/github/ajrianop/Machine-Learning-Techniques/blob/main/01_Measuring_Classifiers.ipynb\" target=\"_parent\"><img src=\"https://colab.research.google.com/assets/colab-badge.svg\" alt=\"Open In Colab\"/></a>"
      ]
    },
    {
      "cell_type": "markdown",
      "source": [
        "# **Measuring Classifiers**"
      ],
      "metadata": {
        "id": "kQBM5nJgLyWN"
      }
    },
    {
      "cell_type": "markdown",
      "source": [
        "In order to understand the results given a classifier model, we can consider the confusion matrix which is described as"
      ],
      "metadata": {
        "id": "O8LvOas0L3Qh"
      }
    },
    {
      "cell_type": "markdown",
      "source": [
        "|  | Actual YES| Actual NO |\n",
        "|----|----|----|\n",
        "| **Predicted YES**| TP | FP |\n",
        "| **Predicted NO**| FN | TN |"
      ],
      "metadata": {
        "id": "7UvpCjaLMPIV"
      }
    },
    {
      "cell_type": "markdown",
      "source": [
        "In order to understand the behaviour of a classfication problem, we can use the confusion matrix to see how well is working the prediction obtained by means our models trained.\n",
        "\n",
        "So, we can consider some scores:\n",
        "\n",
        "* Recall:\n",
        "  * Good metric when we care about a lot about false negative\n",
        "  * Percent of positive correctly predicted.\n",
        "  * $\\frac{TP}{TP+FN}$\n",
        "* Precision:\n",
        "  * Good metric when we care about a lot about false positive.\n",
        "  * Percent of positive correctly predicted.\n",
        "  * $\\frac{TP}{TP+FN}$"
      ],
      "metadata": {
        "id": "0Pj-C2qkNJq9"
      }
    },
    {
      "cell_type": "code",
      "execution_count": null,
      "metadata": {
        "id": "mrTRlruQLsJJ"
      },
      "outputs": [],
      "source": []
    }
  ]
}